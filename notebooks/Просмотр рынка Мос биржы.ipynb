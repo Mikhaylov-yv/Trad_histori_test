{
 "cells": [
  {
   "cell_type": "code",
   "execution_count": 8,
   "metadata": {
    "slideshow": {
     "slide_type": "-"
    }
   },
   "outputs": [],
   "source": [
    "import pandas_datareader.data as web\n",
    "import pandas as pd\n",
    "pd.options.display.max_rows = 50\n",
    "pd.options.display.max_columns = 70"
   ]
  },
  {
   "cell_type": "markdown",
   "metadata": {},
   "source": [
    "[Список акций московской биржы](https://www.moex.com/msn/stock-instruments)"
   ]
  },
  {
   "cell_type": "code",
   "execution_count": 9,
   "metadata": {},
   "outputs": [],
   "source": [
    "import requests\n",
    "from bs4 import BeautifulSoup"
   ]
  },
  {
   "cell_type": "code",
   "execution_count": 36,
   "metadata": {},
   "outputs": [
    {
     "data": {
      "text/html": [
       "<div>\n",
       "<style scoped>\n",
       "    .dataframe tbody tr th:only-of-type {\n",
       "        vertical-align: middle;\n",
       "    }\n",
       "\n",
       "    .dataframe tbody tr th {\n",
       "        vertical-align: top;\n",
       "    }\n",
       "\n",
       "    .dataframe thead th {\n",
       "        text-align: right;\n",
       "    }\n",
       "</style>\n",
       "<table border=\"1\" class=\"dataframe\">\n",
       "  <thead>\n",
       "    <tr style=\"text-align: right;\">\n",
       "      <th></th>\n",
       "      <th>SECID</th>\n",
       "      <th>SHORTNAME</th>\n",
       "      <th>NAME</th>\n",
       "      <th>TYPENAME</th>\n",
       "      <th>ISIN</th>\n",
       "      <th>FACEVALUE</th>\n",
       "      <th>FACEUNIT</th>\n",
       "      <th>PRIMARY_BOARDID</th>\n",
       "      <th>EMITENTNAME</th>\n",
       "      <th>PRICE</th>\n",
       "    </tr>\n",
       "  </thead>\n",
       "  <tbody>\n",
       "    <tr>\n",
       "      <th>0</th>\n",
       "      <td>AAL-RM</td>\n",
       "      <td>AmAirlines</td>\n",
       "      <td>American Airlines Group Inc.</td>\n",
       "      <td>Иностранные акции</td>\n",
       "      <td>US02376R1023</td>\n",
       "      <td>0,01</td>\n",
       "      <td>USD</td>\n",
       "      <td>FQBR</td>\n",
       "      <td>American Airlines Group Inc.</td>\n",
       "      <td>1648,77</td>\n",
       "    </tr>\n",
       "    <tr>\n",
       "      <th>1</th>\n",
       "      <td>AAPL-RM</td>\n",
       "      <td>Apple</td>\n",
       "      <td>Apple Inc.</td>\n",
       "      <td>Иностранные акции</td>\n",
       "      <td>US0378331005</td>\n",
       "      <td>1e-05</td>\n",
       "      <td>USD</td>\n",
       "      <td>FQBR</td>\n",
       "      <td>Apple Inc</td>\n",
       "      <td>9359,5</td>\n",
       "    </tr>\n",
       "    <tr>\n",
       "      <th>2</th>\n",
       "      <td>ABBV-RM</td>\n",
       "      <td>AbbVie</td>\n",
       "      <td>AbbVie Inc.</td>\n",
       "      <td>Иностранные акции</td>\n",
       "      <td>US00287Y1091</td>\n",
       "      <td>0,01</td>\n",
       "      <td>USD</td>\n",
       "      <td>FQBR</td>\n",
       "      <td>AbbVie Inc.</td>\n",
       "      <td>8664,1</td>\n",
       "    </tr>\n",
       "    <tr>\n",
       "      <th>3</th>\n",
       "      <td>ABRD</td>\n",
       "      <td>АбрауДюрсо</td>\n",
       "      <td>Абрау-Дюрсо ПАО ао</td>\n",
       "      <td>Акции обыкновенные</td>\n",
       "      <td>RU000A0JS5T7</td>\n",
       "      <td>1,0</td>\n",
       "      <td>RUB</td>\n",
       "      <td>TQBR</td>\n",
       "      <td>Публичное акционерное общество \"Абрау – Дюрсо\"</td>\n",
       "      <td>196,891</td>\n",
       "    </tr>\n",
       "    <tr>\n",
       "      <th>4</th>\n",
       "      <td>ABT-RM</td>\n",
       "      <td>Abbott</td>\n",
       "      <td>Abbott Laboratories</td>\n",
       "      <td>Иностранные акции</td>\n",
       "      <td>US0028241000</td>\n",
       "      <td>0,0</td>\n",
       "      <td>USD</td>\n",
       "      <td>FQBR</td>\n",
       "      <td>Abbot Laboratories</td>\n",
       "      <td>8768,16</td>\n",
       "    </tr>\n",
       "  </tbody>\n",
       "</table>\n",
       "</div>"
      ],
      "text/plain": [
       "     SECID   SHORTNAME                          NAME            TYPENAME  \\\n",
       "0   AAL-RM  AmAirlines  American Airlines Group Inc.   Иностранные акции   \n",
       "1  AAPL-RM       Apple                    Apple Inc.   Иностранные акции   \n",
       "2  ABBV-RM      AbbVie                   AbbVie Inc.   Иностранные акции   \n",
       "3     ABRD  АбрауДюрсо            Абрау-Дюрсо ПАО ао  Акции обыкновенные   \n",
       "4   ABT-RM      Abbott           Abbott Laboratories   Иностранные акции   \n",
       "\n",
       "           ISIN FACEVALUE FACEUNIT PRIMARY_BOARDID  \\\n",
       "0  US02376R1023      0,01      USD            FQBR   \n",
       "1  US0378331005     1e-05      USD            FQBR   \n",
       "2  US00287Y1091      0,01      USD            FQBR   \n",
       "3  RU000A0JS5T7       1,0      RUB            TQBR   \n",
       "4  US0028241000       0,0      USD            FQBR   \n",
       "\n",
       "                                      EMITENTNAME    PRICE  \n",
       "0                    American Airlines Group Inc.  1648,77  \n",
       "1                                       Apple Inc   9359,5  \n",
       "2                                     AbbVie Inc.   8664,1  \n",
       "3  Публичное акционерное общество \"Абрау – Дюрсо\"  196,891  \n",
       "4                              Abbot Laboratories  8768,16  "
      ]
     },
     "execution_count": 36,
     "metadata": {},
     "output_type": "execute_result"
    }
   ],
   "source": [
    "df = pd.read_csv('../data/rates.csv', sep = ';', encoding = 'cp1251', header = 1)\n",
    "df = df[['SECID','SHORTNAME', 'NAME', 'TYPENAME', 'ISIN','FACEVALUE', 'FACEUNIT', 'PRIMARY_BOARDID', 'EMITENTNAME', 'PRICE']]\n",
    "df.head()"
   ]
  },
  {
   "cell_type": "code",
   "execution_count": null,
   "metadata": {},
   "outputs": [],
   "source": []
  }
 ],
 "metadata": {
  "celltoolbar": "Необработанный формат ячейки",
  "kernelspec": {
   "display_name": "Python 3",
   "language": "python",
   "name": "python3"
  },
  "language_info": {
   "codemirror_mode": {
    "name": "ipython",
    "version": 3
   },
   "file_extension": ".py",
   "mimetype": "text/x-python",
   "name": "python",
   "nbconvert_exporter": "python",
   "pygments_lexer": "ipython3",
   "version": "3.9.5"
  }
 },
 "nbformat": 4,
 "nbformat_minor": 4
}
