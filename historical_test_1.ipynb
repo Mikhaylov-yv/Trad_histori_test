{
 "cells": [
  {
   "cell_type": "markdown",
   "metadata": {
    "toc": true
   },
   "source": [
    "<h1>Table of Contents<span class=\"tocSkip\"></span></h1>\n",
    "<div class=\"toc\"><ul class=\"toc-item\"></ul></div>"
   ]
  },
  {
   "cell_type": "code",
   "execution_count": 1,
   "metadata": {},
   "outputs": [],
   "source": [
    "import pandas as pd\n",
    "import open_finam_data\n",
    "from datetime import datetime"
   ]
  },
  {
   "cell_type": "code",
   "execution_count": 13,
   "metadata": {},
   "outputs": [],
   "source": [
    "import matplotlib.pyplot as plt\n",
    "plt.style.use('fivethirtyeight') \n",
    "# Above is a special style template for matplotlib, highly useful for visualizing time series data\n",
    "%matplotlib inline"
   ]
  },
  {
   "cell_type": "markdown",
   "metadata": {},
   "source": [
    "# Получение данных свечей"
   ]
  },
  {
   "cell_type": "code",
   "execution_count": 2,
   "metadata": {},
   "outputs": [],
   "source": [
    "tolls_path_list = ['HYDR_200101_200425.csv','YNDX_200101_200425.csv']\n",
    "df_dikt = {}\n",
    "for toll_path in tolls_path_list:\n",
    "    df = open_fnam_data.open('../../input/' + toll_path)\n",
    "    #  Фильтр дат\n",
    "    df = df.loc[df.index >= '2020-04-20']\n",
    "    df_dikt[toll_path.split('_')[0]] = df"
   ]
  },
  {
   "cell_type": "code",
   "execution_count": 3,
   "metadata": {},
   "outputs": [
    {
     "data": {
      "text/html": [
       "<div>\n",
       "<style scoped>\n",
       "    .dataframe tbody tr th:only-of-type {\n",
       "        vertical-align: middle;\n",
       "    }\n",
       "\n",
       "    .dataframe tbody tr th {\n",
       "        vertical-align: top;\n",
       "    }\n",
       "\n",
       "    .dataframe thead th {\n",
       "        text-align: right;\n",
       "    }\n",
       "</style>\n",
       "<table border=\"1\" class=\"dataframe\">\n",
       "  <thead>\n",
       "    <tr style=\"text-align: right;\">\n",
       "      <th></th>\n",
       "      <th>OPEN</th>\n",
       "      <th>HIGH</th>\n",
       "      <th>LOW</th>\n",
       "      <th>CLOSE</th>\n",
       "      <th>VOL</th>\n",
       "    </tr>\n",
       "    <tr>\n",
       "      <th>DATE_TIME</th>\n",
       "      <th></th>\n",
       "      <th></th>\n",
       "      <th></th>\n",
       "      <th></th>\n",
       "      <th></th>\n",
       "    </tr>\n",
       "  </thead>\n",
       "  <tbody>\n",
       "    <tr>\n",
       "      <th>2020-04-20 10:01:00</th>\n",
       "      <td>0.6151</td>\n",
       "      <td>0.6160</td>\n",
       "      <td>0.6124</td>\n",
       "      <td>0.6145</td>\n",
       "      <td>14188000</td>\n",
       "    </tr>\n",
       "    <tr>\n",
       "      <th>2020-04-20 10:02:00</th>\n",
       "      <td>0.6141</td>\n",
       "      <td>0.6153</td>\n",
       "      <td>0.6137</td>\n",
       "      <td>0.6149</td>\n",
       "      <td>1507000</td>\n",
       "    </tr>\n",
       "    <tr>\n",
       "      <th>2020-04-20 10:03:00</th>\n",
       "      <td>0.6148</td>\n",
       "      <td>0.6148</td>\n",
       "      <td>0.6137</td>\n",
       "      <td>0.6140</td>\n",
       "      <td>1779000</td>\n",
       "    </tr>\n",
       "    <tr>\n",
       "      <th>2020-04-20 10:04:00</th>\n",
       "      <td>0.6141</td>\n",
       "      <td>0.6158</td>\n",
       "      <td>0.6141</td>\n",
       "      <td>0.6158</td>\n",
       "      <td>2144000</td>\n",
       "    </tr>\n",
       "    <tr>\n",
       "      <th>2020-04-20 10:05:00</th>\n",
       "      <td>0.6156</td>\n",
       "      <td>0.6169</td>\n",
       "      <td>0.6156</td>\n",
       "      <td>0.6166</td>\n",
       "      <td>2778000</td>\n",
       "    </tr>\n",
       "    <tr>\n",
       "      <th>...</th>\n",
       "      <td>...</td>\n",
       "      <td>...</td>\n",
       "      <td>...</td>\n",
       "      <td>...</td>\n",
       "      <td>...</td>\n",
       "    </tr>\n",
       "    <tr>\n",
       "      <th>2020-04-24 18:40:00</th>\n",
       "      <td>0.6145</td>\n",
       "      <td>0.6154</td>\n",
       "      <td>0.6145</td>\n",
       "      <td>0.6149</td>\n",
       "      <td>3493000</td>\n",
       "    </tr>\n",
       "    <tr>\n",
       "      <th>2020-04-24 18:46:00</th>\n",
       "      <td>0.6118</td>\n",
       "      <td>0.6118</td>\n",
       "      <td>0.6118</td>\n",
       "      <td>0.6118</td>\n",
       "      <td>38239000</td>\n",
       "    </tr>\n",
       "    <tr>\n",
       "      <th>2020-04-24 18:47:00</th>\n",
       "      <td>0.6118</td>\n",
       "      <td>0.6118</td>\n",
       "      <td>0.6118</td>\n",
       "      <td>0.6118</td>\n",
       "      <td>759000</td>\n",
       "    </tr>\n",
       "    <tr>\n",
       "      <th>2020-04-24 18:48:00</th>\n",
       "      <td>0.6118</td>\n",
       "      <td>0.6118</td>\n",
       "      <td>0.6118</td>\n",
       "      <td>0.6118</td>\n",
       "      <td>80000</td>\n",
       "    </tr>\n",
       "    <tr>\n",
       "      <th>2020-04-24 18:50:00</th>\n",
       "      <td>0.6118</td>\n",
       "      <td>0.6118</td>\n",
       "      <td>0.6118</td>\n",
       "      <td>0.6118</td>\n",
       "      <td>24000</td>\n",
       "    </tr>\n",
       "  </tbody>\n",
       "</table>\n",
       "<p>2619 rows × 5 columns</p>\n",
       "</div>"
      ],
      "text/plain": [
       "                       OPEN    HIGH     LOW   CLOSE       VOL\n",
       "DATE_TIME                                                    \n",
       "2020-04-20 10:01:00  0.6151  0.6160  0.6124  0.6145  14188000\n",
       "2020-04-20 10:02:00  0.6141  0.6153  0.6137  0.6149   1507000\n",
       "2020-04-20 10:03:00  0.6148  0.6148  0.6137  0.6140   1779000\n",
       "2020-04-20 10:04:00  0.6141  0.6158  0.6141  0.6158   2144000\n",
       "2020-04-20 10:05:00  0.6156  0.6169  0.6156  0.6166   2778000\n",
       "...                     ...     ...     ...     ...       ...\n",
       "2020-04-24 18:40:00  0.6145  0.6154  0.6145  0.6149   3493000\n",
       "2020-04-24 18:46:00  0.6118  0.6118  0.6118  0.6118  38239000\n",
       "2020-04-24 18:47:00  0.6118  0.6118  0.6118  0.6118    759000\n",
       "2020-04-24 18:48:00  0.6118  0.6118  0.6118  0.6118     80000\n",
       "2020-04-24 18:50:00  0.6118  0.6118  0.6118  0.6118     24000\n",
       "\n",
       "[2619 rows x 5 columns]"
      ]
     },
     "execution_count": 3,
     "metadata": {},
     "output_type": "execute_result"
    }
   ],
   "source": [
    "df= df_dikt['HYDR']\n",
    "df"
   ]
  },
  {
   "cell_type": "markdown",
   "metadata": {},
   "source": [
    "# Определяем период который перекрывают все инструменты"
   ]
  },
  {
   "cell_type": "code",
   "execution_count": 4,
   "metadata": {},
   "outputs": [
    {
     "data": {
      "text/plain": [
       "{'stert': Timestamp('2020-04-20 10:01:00'),\n",
       " 'end': Timestamp('2020-04-24 18:50:00'),\n",
       " 'step': Timedelta('0 days 00:01:00')}"
      ]
     },
     "execution_count": 4,
     "metadata": {},
     "output_type": "execute_result"
    }
   ],
   "source": [
    "data_period_dick = {'stert':[], 'end':[], 'step' : []}\n",
    "for tool in list(df_dikt):\n",
    "    data_period_dick['stert'].append(df_dikt[tool].index[0])\n",
    "    data_period_dick['end'].append(df_dikt[tool].index[-1])\n",
    "    data_period_dick['step'].append(df_dikt[tool].index[1] - df_dikt[tool].index[0])\n",
    "data_period_dick['stert'] = max(data_period_dick['stert'])\n",
    "data_period_dick['end'] = min(data_period_dick['end'])\n",
    "data_period_dick['step'] = data_period_dick['step'][0]\n",
    "data_period_dick"
   ]
  },
  {
   "cell_type": "code",
   "execution_count": 5,
   "metadata": {},
   "outputs": [
    {
     "data": {
      "text/plain": [
       "{'HYDR': 0, 'YNDX': 0}"
      ]
     },
     "execution_count": 5,
     "metadata": {},
     "output_type": "execute_result"
    }
   ],
   "source": [
    "# Словарь с котировами по цене закрытия на инструменты нахдящиеся в работе\n",
    "cot_dict = {}\n",
    "for tool in list(df_dikt):\n",
    "    cot_dict[tool] = 0\n",
    "cot_dict"
   ]
  },
  {
   "cell_type": "markdown",
   "metadata": {},
   "source": [
    "# Ресэмплирование"
   ]
  },
  {
   "cell_type": "code",
   "execution_count": 6,
   "metadata": {},
   "outputs": [],
   "source": [
    "for tool in list(df_dikt):\n",
    "    df_dikt[tool] = df_dikt[tool].resample(data_period_dick['step']).last()"
   ]
  },
  {
   "cell_type": "code",
   "execution_count": 7,
   "metadata": {},
   "outputs": [],
   "source": [
    "# Создание диапазана\n",
    "data_time_range = pd.date_range(start = data_period_dick['stert'], end = data_period_dick['end'], freq = data_period_dick['step'])"
   ]
  },
  {
   "cell_type": "code",
   "execution_count": 8,
   "metadata": {},
   "outputs": [
    {
     "data": {
      "text/html": [
       "<div>\n",
       "<style scoped>\n",
       "    .dataframe tbody tr th:only-of-type {\n",
       "        vertical-align: middle;\n",
       "    }\n",
       "\n",
       "    .dataframe tbody tr th {\n",
       "        vertical-align: top;\n",
       "    }\n",
       "\n",
       "    .dataframe thead th {\n",
       "        text-align: right;\n",
       "    }\n",
       "</style>\n",
       "<table border=\"1\" class=\"dataframe\">\n",
       "  <thead>\n",
       "    <tr style=\"text-align: right;\">\n",
       "      <th></th>\n",
       "      <th>Portfel_vol</th>\n",
       "    </tr>\n",
       "  </thead>\n",
       "  <tbody>\n",
       "    <tr>\n",
       "      <th>2020-04-20 10:01:00</th>\n",
       "      <td>0</td>\n",
       "    </tr>\n",
       "    <tr>\n",
       "      <th>2020-04-20 10:02:00</th>\n",
       "      <td>0</td>\n",
       "    </tr>\n",
       "    <tr>\n",
       "      <th>2020-04-20 10:03:00</th>\n",
       "      <td>0</td>\n",
       "    </tr>\n",
       "    <tr>\n",
       "      <th>2020-04-20 10:04:00</th>\n",
       "      <td>0</td>\n",
       "    </tr>\n",
       "    <tr>\n",
       "      <th>2020-04-20 10:05:00</th>\n",
       "      <td>0</td>\n",
       "    </tr>\n",
       "    <tr>\n",
       "      <th>...</th>\n",
       "      <td>...</td>\n",
       "    </tr>\n",
       "    <tr>\n",
       "      <th>2020-04-24 18:46:00</th>\n",
       "      <td>0</td>\n",
       "    </tr>\n",
       "    <tr>\n",
       "      <th>2020-04-24 18:47:00</th>\n",
       "      <td>0</td>\n",
       "    </tr>\n",
       "    <tr>\n",
       "      <th>2020-04-24 18:48:00</th>\n",
       "      <td>0</td>\n",
       "    </tr>\n",
       "    <tr>\n",
       "      <th>2020-04-24 18:49:00</th>\n",
       "      <td>0</td>\n",
       "    </tr>\n",
       "    <tr>\n",
       "      <th>2020-04-24 18:50:00</th>\n",
       "      <td>0</td>\n",
       "    </tr>\n",
       "  </tbody>\n",
       "</table>\n",
       "<p>6290 rows × 1 columns</p>\n",
       "</div>"
      ],
      "text/plain": [
       "                     Portfel_vol\n",
       "2020-04-20 10:01:00            0\n",
       "2020-04-20 10:02:00            0\n",
       "2020-04-20 10:03:00            0\n",
       "2020-04-20 10:04:00            0\n",
       "2020-04-20 10:05:00            0\n",
       "...                          ...\n",
       "2020-04-24 18:46:00            0\n",
       "2020-04-24 18:47:00            0\n",
       "2020-04-24 18:48:00            0\n",
       "2020-04-24 18:49:00            0\n",
       "2020-04-24 18:50:00            0\n",
       "\n",
       "[6290 rows x 1 columns]"
      ]
     },
     "execution_count": 8,
     "metadata": {},
     "output_type": "execute_result"
    }
   ],
   "source": [
    "# Создание данных о стоимости портфеля\n",
    "portfel_df = pd.DataFrame(index=data_time_range)\n",
    "portfel_df['Portfel_vol'] = portfel_df.apply(lambda x: 0, axis = 1)\n",
    "portfel_df"
   ]
  },
  {
   "cell_type": "markdown",
   "metadata": {},
   "source": [
    "# Тестирование на исторических данных"
   ]
  },
  {
   "cell_type": "code",
   "execution_count": 9,
   "metadata": {},
   "outputs": [
    {
     "data": {
      "text/plain": [
       "100389.05834999999"
      ]
     },
     "execution_count": 9,
     "metadata": {},
     "output_type": "execute_result"
    }
   ],
   "source": [
    "import financial_account\n",
    "my_account = financial_account.Financial_account()\n",
    "my_account.add_mone(100000)\n",
    "data_null = data_time_range[0]\n",
    "data_prise = data_null\n",
    "\n",
    "for data_time in data_time_range:\n",
    "#   Определение акруальных котировок\n",
    "    for tool in list(cot_dict):\n",
    "        cot_dict[tool] = df_dikt[tool].iloc[df_dikt[tool].index == data_time]['CLOSE'].values[0]\n",
    "    if data_time == pd.Timestamp('2020-04-21 10:01:00'):\n",
    "        my_account.buy_lot(lot_name = 'HYDR',lot_count = 10, lot_size = 1000, lot_price = cot_dict['HYDR'])\n",
    "    if data_time == pd.Timestamp('2020-04-22 12:00:00'):\n",
    "        my_account.sell_lot(lot_name = 'HYDR',lot_count = 10, lot_size = 1000, lot_price = cot_dict['HYDR'])\n",
    "        \n",
    "    portfel_df.loc[portfel_df.index == data_time] = my_account.get_portfel_price(cot_dict)\n",
    "\n",
    "my_account.free_money\n",
    "\n"
   ]
  },
  {
   "cell_type": "code",
   "execution_count": 15,
   "metadata": {},
   "outputs": [
    {
     "data": {
      "text/plain": [
       "<matplotlib.axes._subplots.AxesSubplot at 0x1abc216c1c0>"
      ]
     },
     "execution_count": 15,
     "metadata": {},
     "output_type": "execute_result"
    },
    {
     "data": {
      "image/png": "[encoded data removed]",
      "text/plain": [
       "<Figure size 432x288 with 1 Axes>"
      ]
     },
     "metadata": {
      "needs_background": "light"
     },
     "output_type": "display_data"
    }
   ],
   "source": [
    "portfel_df.asfreq('D').plot()"
   ]
  },
  {
   "cell_type": "code",
   "execution_count": null,
   "metadata": {},
   "outputs": [],
   "source": []
  }
 ],
 "metadata": {
  "kernelspec": {
   "display_name": "Python 3",
   "language": "python",
   "name": "python3"
  },
  "language_info": {
   "codemirror_mode": {
    "name": "ipython",
    "version": 3
   },
   "file_extension": ".py",
   "mimetype": "text/x-python",
   "name": "python",
   "nbconvert_exporter": "python",
   "pygments_lexer": "ipython3",
   "version": "3.8.2"
  },
  "toc": {
   "base_numbering": 1,
   "nav_menu": {},
   "number_sections": true,
   "sideBar": true,
   "skip_h1_title": true,
   "title_cell": "Table of Contents",
   "title_sidebar": "Contents",
   "toc_cell": true,
   "toc_position": {},
   "toc_section_display": true,
   "toc_window_display": false
  }
 },
 "nbformat": 4,
 "nbformat_minor": 4
}
